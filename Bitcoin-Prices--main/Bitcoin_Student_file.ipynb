{
 "cells": [
  {
   "cell_type": "markdown",
   "id": "6918f709",
   "metadata": {},
   "source": [
    "<img src=\"https://dev.skillup.online/asset-v1:SkillUp+SKOAI101+PLU_2021_1+type@asset+block@SKO.png\" width=\"250\" align=\"center\">\n",
    "\n",
    "<h1 align=\"center\"><font size=\"5\"> Analyzing and Visualizing Bit Coin Prices</font></h1>"
   ]
  },
  {
   "cell_type": "markdown",
   "id": "fb741e28",
   "metadata": {},
   "source": [
    "## Importing Libraries"
   ]
  },
  {
   "cell_type": "code",
   "execution_count": 1,
   "id": "06ba9e93",
   "metadata": {},
   "outputs": [],
   "source": [
    "# import libraries\n",
    "import numpy as np \n",
    "import pandas as pd\n",
    "import matplotlib.pyplot as plt\n",
    "import seaborn as sns\n",
    "%matplotlib inline  "
   ]
  },
  {
   "cell_type": "markdown",
   "id": "f3e65a4a",
   "metadata": {},
   "source": [
    "## Reading Data Set"
   ]
  },
  {
   "cell_type": "markdown",
   "id": "ec1a238e",
   "metadata": {},
   "source": [
    "#### since my file is in excel format , i have used 'read_excel()' , else I'd have used 'read_csv()'"
   ]
  },
  {
   "cell_type": "code",
   "execution_count": 2,
   "id": "91980dbe",
   "metadata": {},
   "outputs": [],
   "source": [
    "# Read the data set using read_csv function\n",
    "\n",
    "df=pd.read_excel(\"bitcoin_prices.xlsx\")"
   ]
  },
  {
   "cell_type": "markdown",
   "id": "616871e5",
   "metadata": {},
   "source": [
    "### Get glimpse of data"
   ]
  },
  {
   "cell_type": "code",
   "execution_count": 3,
   "id": "6d3a0261",
   "metadata": {},
   "outputs": [
    {
     "data": {
      "text/plain": [
       "pandas.core.frame.DataFrame"
      ]
     },
     "execution_count": 3,
     "metadata": {},
     "output_type": "execute_result"
    }
   ],
   "source": [
    "type(df)"
   ]
  },
  {
   "cell_type": "code",
   "execution_count": 4,
   "id": "1d66df60",
   "metadata": {},
   "outputs": [
    {
     "data": {
      "text/html": [
       "<div>\n",
       "<style scoped>\n",
       "    .dataframe tbody tr th:only-of-type {\n",
       "        vertical-align: middle;\n",
       "    }\n",
       "\n",
       "    .dataframe tbody tr th {\n",
       "        vertical-align: top;\n",
       "    }\n",
       "\n",
       "    .dataframe thead th {\n",
       "        text-align: right;\n",
       "    }\n",
       "</style>\n",
       "<table border=\"1\" class=\"dataframe\">\n",
       "  <thead>\n",
       "    <tr style=\"text-align: right;\">\n",
       "      <th></th>\n",
       "      <th>open</th>\n",
       "      <th>high</th>\n",
       "      <th>low</th>\n",
       "      <th>close</th>\n",
       "      <th>tick_volume</th>\n",
       "      <th>year</th>\n",
       "      <th>month</th>\n",
       "      <th>day</th>\n",
       "    </tr>\n",
       "  </thead>\n",
       "  <tbody>\n",
       "    <tr>\n",
       "      <th>0</th>\n",
       "      <td>5.26</td>\n",
       "      <td>5.47</td>\n",
       "      <td>4.80</td>\n",
       "      <td>5.21</td>\n",
       "      <td>69150</td>\n",
       "      <td>2012</td>\n",
       "      <td>1</td>\n",
       "      <td>2</td>\n",
       "    </tr>\n",
       "    <tr>\n",
       "      <th>1</th>\n",
       "      <td>5.22</td>\n",
       "      <td>5.29</td>\n",
       "      <td>4.65</td>\n",
       "      <td>4.88</td>\n",
       "      <td>125170</td>\n",
       "      <td>2012</td>\n",
       "      <td>1</td>\n",
       "      <td>3</td>\n",
       "    </tr>\n",
       "    <tr>\n",
       "      <th>2</th>\n",
       "      <td>4.88</td>\n",
       "      <td>5.70</td>\n",
       "      <td>4.75</td>\n",
       "      <td>5.57</td>\n",
       "      <td>131170</td>\n",
       "      <td>2012</td>\n",
       "      <td>1</td>\n",
       "      <td>4</td>\n",
       "    </tr>\n",
       "    <tr>\n",
       "      <th>3</th>\n",
       "      <td>5.57</td>\n",
       "      <td>7.22</td>\n",
       "      <td>5.57</td>\n",
       "      <td>6.94</td>\n",
       "      <td>182328</td>\n",
       "      <td>2012</td>\n",
       "      <td>1</td>\n",
       "      <td>5</td>\n",
       "    </tr>\n",
       "    <tr>\n",
       "      <th>4</th>\n",
       "      <td>6.95</td>\n",
       "      <td>7.21</td>\n",
       "      <td>6.13</td>\n",
       "      <td>6.70</td>\n",
       "      <td>218077</td>\n",
       "      <td>2012</td>\n",
       "      <td>1</td>\n",
       "      <td>6</td>\n",
       "    </tr>\n",
       "  </tbody>\n",
       "</table>\n",
       "</div>"
      ],
      "text/plain": [
       "   open  high   low  close  tick_volume  year  month  day\n",
       "0  5.26  5.47  4.80   5.21        69150  2012      1    2\n",
       "1  5.22  5.29  4.65   4.88       125170  2012      1    3\n",
       "2  4.88  5.70  4.75   5.57       131170  2012      1    4\n",
       "3  5.57  7.22  5.57   6.94       182328  2012      1    5\n",
       "4  6.95  7.21  6.13   6.70       218077  2012      1    6"
      ]
     },
     "execution_count": 4,
     "metadata": {},
     "output_type": "execute_result"
    }
   ],
   "source": [
    "df.head()"
   ]
  },
  {
   "cell_type": "code",
   "execution_count": 5,
   "id": "84465dd7",
   "metadata": {},
   "outputs": [
    {
     "data": {
      "text/html": [
       "<div>\n",
       "<style scoped>\n",
       "    .dataframe tbody tr th:only-of-type {\n",
       "        vertical-align: middle;\n",
       "    }\n",
       "\n",
       "    .dataframe tbody tr th {\n",
       "        vertical-align: top;\n",
       "    }\n",
       "\n",
       "    .dataframe thead th {\n",
       "        text-align: right;\n",
       "    }\n",
       "</style>\n",
       "<table border=\"1\" class=\"dataframe\">\n",
       "  <thead>\n",
       "    <tr style=\"text-align: right;\">\n",
       "      <th></th>\n",
       "      <th>open</th>\n",
       "      <th>high</th>\n",
       "      <th>low</th>\n",
       "      <th>close</th>\n",
       "      <th>tick_volume</th>\n",
       "      <th>year</th>\n",
       "      <th>month</th>\n",
       "      <th>day</th>\n",
       "    </tr>\n",
       "  </thead>\n",
       "  <tbody>\n",
       "    <tr>\n",
       "      <th>count</th>\n",
       "      <td>2404.000000</td>\n",
       "      <td>2404.000000</td>\n",
       "      <td>2404.000000</td>\n",
       "      <td>2404.000000</td>\n",
       "      <td>2.404000e+03</td>\n",
       "      <td>2404.000000</td>\n",
       "      <td>2404.000000</td>\n",
       "      <td>2404.000000</td>\n",
       "    </tr>\n",
       "    <tr>\n",
       "      <th>mean</th>\n",
       "      <td>3567.653057</td>\n",
       "      <td>3683.417646</td>\n",
       "      <td>3455.242583</td>\n",
       "      <td>3581.347841</td>\n",
       "      <td>8.994595e+05</td>\n",
       "      <td>2016.030366</td>\n",
       "      <td>6.495008</td>\n",
       "      <td>15.740849</td>\n",
       "    </tr>\n",
       "    <tr>\n",
       "      <th>std</th>\n",
       "      <td>4550.887219</td>\n",
       "      <td>4711.210949</td>\n",
       "      <td>4399.844433</td>\n",
       "      <td>4577.830738</td>\n",
       "      <td>1.730617e+06</td>\n",
       "      <td>2.560689</td>\n",
       "      <td>3.450195</td>\n",
       "      <td>8.796198</td>\n",
       "    </tr>\n",
       "    <tr>\n",
       "      <th>min</th>\n",
       "      <td>4.270000</td>\n",
       "      <td>4.400000</td>\n",
       "      <td>3.880000</td>\n",
       "      <td>4.270000</td>\n",
       "      <td>1.000000e+00</td>\n",
       "      <td>2012.000000</td>\n",
       "      <td>1.000000</td>\n",
       "      <td>1.000000</td>\n",
       "    </tr>\n",
       "    <tr>\n",
       "      <th>25%</th>\n",
       "      <td>242.850000</td>\n",
       "      <td>247.555000</td>\n",
       "      <td>238.997500</td>\n",
       "      <td>242.845000</td>\n",
       "      <td>1.164375e+04</td>\n",
       "      <td>2014.000000</td>\n",
       "      <td>3.000000</td>\n",
       "      <td>8.000000</td>\n",
       "    </tr>\n",
       "    <tr>\n",
       "      <th>50%</th>\n",
       "      <td>664.165000</td>\n",
       "      <td>698.525000</td>\n",
       "      <td>650.000000</td>\n",
       "      <td>665.600000</td>\n",
       "      <td>5.729700e+04</td>\n",
       "      <td>2016.000000</td>\n",
       "      <td>7.000000</td>\n",
       "      <td>16.000000</td>\n",
       "    </tr>\n",
       "    <tr>\n",
       "      <th>75%</th>\n",
       "      <td>6878.190000</td>\n",
       "      <td>7154.642500</td>\n",
       "      <td>6682.545000</td>\n",
       "      <td>6904.122500</td>\n",
       "      <td>1.215402e+06</td>\n",
       "      <td>2018.000000</td>\n",
       "      <td>9.250000</td>\n",
       "      <td>23.000000</td>\n",
       "    </tr>\n",
       "    <tr>\n",
       "      <th>max</th>\n",
       "      <td>28895.640000</td>\n",
       "      <td>29312.120000</td>\n",
       "      <td>27892.130000</td>\n",
       "      <td>28908.020000</td>\n",
       "      <td>2.042834e+07</td>\n",
       "      <td>2020.000000</td>\n",
       "      <td>12.000000</td>\n",
       "      <td>31.000000</td>\n",
       "    </tr>\n",
       "  </tbody>\n",
       "</table>\n",
       "</div>"
      ],
      "text/plain": [
       "               open          high           low         close   tick_volume  \\\n",
       "count   2404.000000   2404.000000   2404.000000   2404.000000  2.404000e+03   \n",
       "mean    3567.653057   3683.417646   3455.242583   3581.347841  8.994595e+05   \n",
       "std     4550.887219   4711.210949   4399.844433   4577.830738  1.730617e+06   \n",
       "min        4.270000      4.400000      3.880000      4.270000  1.000000e+00   \n",
       "25%      242.850000    247.555000    238.997500    242.845000  1.164375e+04   \n",
       "50%      664.165000    698.525000    650.000000    665.600000  5.729700e+04   \n",
       "75%     6878.190000   7154.642500   6682.545000   6904.122500  1.215402e+06   \n",
       "max    28895.640000  29312.120000  27892.130000  28908.020000  2.042834e+07   \n",
       "\n",
       "              year        month          day  \n",
       "count  2404.000000  2404.000000  2404.000000  \n",
       "mean   2016.030366     6.495008    15.740849  \n",
       "std       2.560689     3.450195     8.796198  \n",
       "min    2012.000000     1.000000     1.000000  \n",
       "25%    2014.000000     3.000000     8.000000  \n",
       "50%    2016.000000     7.000000    16.000000  \n",
       "75%    2018.000000     9.250000    23.000000  \n",
       "max    2020.000000    12.000000    31.000000  "
      ]
     },
     "execution_count": 5,
     "metadata": {},
     "output_type": "execute_result"
    }
   ],
   "source": [
    "# shows mean, standard deviation\n",
    "df.describe()"
   ]
  },
  {
   "cell_type": "code",
   "execution_count": 6,
   "id": "1047cb1b",
   "metadata": {
    "scrolled": false
   },
   "outputs": [
    {
     "data": {
      "text/plain": [
       "2404"
      ]
     },
     "execution_count": 6,
     "metadata": {},
     "output_type": "execute_result"
    }
   ],
   "source": [
    "# Number of rows in this dataframe\n",
    "len(df)"
   ]
  },
  {
   "cell_type": "code",
   "execution_count": 7,
   "id": "23becc3e",
   "metadata": {},
   "outputs": [
    {
     "data": {
      "text/html": [
       "<div>\n",
       "<style scoped>\n",
       "    .dataframe tbody tr th:only-of-type {\n",
       "        vertical-align: middle;\n",
       "    }\n",
       "\n",
       "    .dataframe tbody tr th {\n",
       "        vertical-align: top;\n",
       "    }\n",
       "\n",
       "    .dataframe thead th {\n",
       "        text-align: right;\n",
       "    }\n",
       "</style>\n",
       "<table border=\"1\" class=\"dataframe\">\n",
       "  <thead>\n",
       "    <tr style=\"text-align: right;\">\n",
       "      <th></th>\n",
       "      <th>open</th>\n",
       "      <th>high</th>\n",
       "      <th>low</th>\n",
       "      <th>close</th>\n",
       "      <th>tick_volume</th>\n",
       "      <th>year</th>\n",
       "      <th>month</th>\n",
       "      <th>day</th>\n",
       "    </tr>\n",
       "  </thead>\n",
       "  <tbody>\n",
       "    <tr>\n",
       "      <th>0</th>\n",
       "      <td>5.26</td>\n",
       "      <td>5.47</td>\n",
       "      <td>4.80</td>\n",
       "      <td>5.21</td>\n",
       "      <td>69150</td>\n",
       "      <td>2012</td>\n",
       "      <td>1</td>\n",
       "      <td>2</td>\n",
       "    </tr>\n",
       "    <tr>\n",
       "      <th>1</th>\n",
       "      <td>5.22</td>\n",
       "      <td>5.29</td>\n",
       "      <td>4.65</td>\n",
       "      <td>4.88</td>\n",
       "      <td>125170</td>\n",
       "      <td>2012</td>\n",
       "      <td>1</td>\n",
       "      <td>3</td>\n",
       "    </tr>\n",
       "    <tr>\n",
       "      <th>2</th>\n",
       "      <td>4.88</td>\n",
       "      <td>5.70</td>\n",
       "      <td>4.75</td>\n",
       "      <td>5.57</td>\n",
       "      <td>131170</td>\n",
       "      <td>2012</td>\n",
       "      <td>1</td>\n",
       "      <td>4</td>\n",
       "    </tr>\n",
       "    <tr>\n",
       "      <th>3</th>\n",
       "      <td>5.57</td>\n",
       "      <td>7.22</td>\n",
       "      <td>5.57</td>\n",
       "      <td>6.94</td>\n",
       "      <td>182328</td>\n",
       "      <td>2012</td>\n",
       "      <td>1</td>\n",
       "      <td>5</td>\n",
       "    </tr>\n",
       "    <tr>\n",
       "      <th>4</th>\n",
       "      <td>6.95</td>\n",
       "      <td>7.21</td>\n",
       "      <td>6.13</td>\n",
       "      <td>6.70</td>\n",
       "      <td>218077</td>\n",
       "      <td>2012</td>\n",
       "      <td>1</td>\n",
       "      <td>6</td>\n",
       "    </tr>\n",
       "    <tr>\n",
       "      <th>...</th>\n",
       "      <td>...</td>\n",
       "      <td>...</td>\n",
       "      <td>...</td>\n",
       "      <td>...</td>\n",
       "      <td>...</td>\n",
       "      <td>...</td>\n",
       "      <td>...</td>\n",
       "      <td>...</td>\n",
       "    </tr>\n",
       "    <tr>\n",
       "      <th>2399</th>\n",
       "      <td>23283.52</td>\n",
       "      <td>23476.62</td>\n",
       "      <td>22590.22</td>\n",
       "      <td>23321.08</td>\n",
       "      <td>204922</td>\n",
       "      <td>2020</td>\n",
       "      <td>12</td>\n",
       "      <td>24</td>\n",
       "    </tr>\n",
       "    <tr>\n",
       "      <th>2400</th>\n",
       "      <td>26326.42</td>\n",
       "      <td>27454.94</td>\n",
       "      <td>25153.26</td>\n",
       "      <td>26625.21</td>\n",
       "      <td>228801</td>\n",
       "      <td>2020</td>\n",
       "      <td>12</td>\n",
       "      <td>28</td>\n",
       "    </tr>\n",
       "    <tr>\n",
       "      <th>2401</th>\n",
       "      <td>26639.90</td>\n",
       "      <td>27186.88</td>\n",
       "      <td>25823.42</td>\n",
       "      <td>26871.89</td>\n",
       "      <td>228017</td>\n",
       "      <td>2020</td>\n",
       "      <td>12</td>\n",
       "      <td>29</td>\n",
       "    </tr>\n",
       "    <tr>\n",
       "      <th>2402</th>\n",
       "      <td>26914.47</td>\n",
       "      <td>29010.50</td>\n",
       "      <td>26880.26</td>\n",
       "      <td>28894.70</td>\n",
       "      <td>236650</td>\n",
       "      <td>2020</td>\n",
       "      <td>12</td>\n",
       "      <td>30</td>\n",
       "    </tr>\n",
       "    <tr>\n",
       "      <th>2403</th>\n",
       "      <td>28895.64</td>\n",
       "      <td>29312.12</td>\n",
       "      <td>27892.13</td>\n",
       "      <td>28908.02</td>\n",
       "      <td>232357</td>\n",
       "      <td>2020</td>\n",
       "      <td>12</td>\n",
       "      <td>31</td>\n",
       "    </tr>\n",
       "  </tbody>\n",
       "</table>\n",
       "<p>2404 rows × 8 columns</p>\n",
       "</div>"
      ],
      "text/plain": [
       "          open      high       low     close  tick_volume  year  month  day\n",
       "0         5.26      5.47      4.80      5.21        69150  2012      1    2\n",
       "1         5.22      5.29      4.65      4.88       125170  2012      1    3\n",
       "2         4.88      5.70      4.75      5.57       131170  2012      1    4\n",
       "3         5.57      7.22      5.57      6.94       182328  2012      1    5\n",
       "4         6.95      7.21      6.13      6.70       218077  2012      1    6\n",
       "...        ...       ...       ...       ...          ...   ...    ...  ...\n",
       "2399  23283.52  23476.62  22590.22  23321.08       204922  2020     12   24\n",
       "2400  26326.42  27454.94  25153.26  26625.21       228801  2020     12   28\n",
       "2401  26639.90  27186.88  25823.42  26871.89       228017  2020     12   29\n",
       "2402  26914.47  29010.50  26880.26  28894.70       236650  2020     12   30\n",
       "2403  28895.64  29312.12  27892.13  28908.02       232357  2020     12   31\n",
       "\n",
       "[2404 rows x 8 columns]"
      ]
     },
     "execution_count": 7,
     "metadata": {},
     "output_type": "execute_result"
    }
   ],
   "source": [
    "# to understand more in the dataset which we are given with \n",
    "df"
   ]
  },
  {
   "cell_type": "markdown",
   "id": "91ba0d38",
   "metadata": {},
   "source": [
    "#### if the above details are not enough then it is fine to look through the data again in the excel sheet  to get a more deeper understanding or to resolve any further queries."
   ]
  },
  {
   "cell_type": "code",
   "execution_count": 8,
   "id": "356af984",
   "metadata": {},
   "outputs": [
    {
     "name": "stdout",
     "output_type": "stream",
     "text": [
      "<class 'pandas.core.frame.DataFrame'>\n",
      "RangeIndex: 2404 entries, 0 to 2403\n",
      "Data columns (total 8 columns):\n",
      " #   Column       Non-Null Count  Dtype  \n",
      "---  ------       --------------  -----  \n",
      " 0   open         2404 non-null   float64\n",
      " 1   high         2404 non-null   float64\n",
      " 2   low          2404 non-null   float64\n",
      " 3   close        2404 non-null   float64\n",
      " 4   tick_volume  2404 non-null   int64  \n",
      " 5   year         2404 non-null   int64  \n",
      " 6   month        2404 non-null   int64  \n",
      " 7   day          2404 non-null   int64  \n",
      "dtypes: float64(4), int64(4)\n",
      "memory usage: 150.4 KB\n"
     ]
    }
   ],
   "source": [
    "# observe the data columns data_type , though all are stored in decimal format , what if these are given in strings\n",
    "# clarify any further doubts\n",
    "\n",
    "df.info()"
   ]
  },
  {
   "cell_type": "markdown",
   "id": "fd6f3d69",
   "metadata": {},
   "source": [
    "### Q1. groupby dataframe on <code>year</code> and find the mean value,"
   ]
  },
  {
   "cell_type": "code",
   "execution_count": 9,
   "id": "0dde2ca4",
   "metadata": {},
   "outputs": [],
   "source": [
    "# Write your code here\n",
    "\n",
    "# new dataframe = df_yearly_mean\n",
    "\n",
    "df_yearly_mean = df.groupby('year')[['open','high','low','close']].mean().reset_index()\n"
   ]
  },
  {
   "cell_type": "code",
   "execution_count": 10,
   "id": "b2d971f6",
   "metadata": {},
   "outputs": [],
   "source": [
    "# On the basis of year and (we'll have to find the mean of columns [open,high,low,close])  \n",
    "# we will have to group the data into a new dataframe . \n",
    "# which means our new dataframe will include columns as [year,open,high,low,close]\n",
    "# Find mean of [open , high , low , close] where year == year [we can you use groupby() from the pandas library directly here!]"
   ]
  },
  {
   "cell_type": "code",
   "execution_count": 11,
   "id": "26fed73b",
   "metadata": {},
   "outputs": [],
   "source": [
    "# also in the code after adding the mean() , \n",
    "# the reason we put reset_index() , \n",
    "# is because to properly apply the column_name for the column year else, \n",
    "# it starts throwing an error ('interpret year')"
   ]
  },
  {
   "cell_type": "code",
   "execution_count": 12,
   "id": "5ebd3c0b",
   "metadata": {},
   "outputs": [
    {
     "data": {
      "text/plain": [
       "Index(['year', 'open', 'high', 'low', 'close'], dtype='object')"
      ]
     },
     "execution_count": 12,
     "metadata": {},
     "output_type": "execute_result"
    }
   ],
   "source": [
    "# here we verify that all columns are available here in the dataframe as we have mentioned properly\n",
    "\n",
    "df_yearly_mean.columns\n"
   ]
  },
  {
   "cell_type": "code",
   "execution_count": 13,
   "id": "5b499617",
   "metadata": {},
   "outputs": [
    {
     "data": {
      "text/html": [
       "<div>\n",
       "<style scoped>\n",
       "    .dataframe tbody tr th:only-of-type {\n",
       "        vertical-align: middle;\n",
       "    }\n",
       "\n",
       "    .dataframe tbody tr th {\n",
       "        vertical-align: top;\n",
       "    }\n",
       "\n",
       "    .dataframe thead th {\n",
       "        text-align: right;\n",
       "    }\n",
       "</style>\n",
       "<table border=\"1\" class=\"dataframe\">\n",
       "  <thead>\n",
       "    <tr style=\"text-align: right;\">\n",
       "      <th></th>\n",
       "      <th>year</th>\n",
       "      <th>open</th>\n",
       "      <th>high</th>\n",
       "      <th>low</th>\n",
       "      <th>close</th>\n",
       "    </tr>\n",
       "  </thead>\n",
       "  <tbody>\n",
       "    <tr>\n",
       "      <th>0</th>\n",
       "      <td>2012</td>\n",
       "      <td>8.249119</td>\n",
       "      <td>8.482605</td>\n",
       "      <td>8.034674</td>\n",
       "      <td>8.303602</td>\n",
       "    </tr>\n",
       "    <tr>\n",
       "      <th>1</th>\n",
       "      <td>2013</td>\n",
       "      <td>182.396475</td>\n",
       "      <td>195.594023</td>\n",
       "      <td>170.112989</td>\n",
       "      <td>185.867663</td>\n",
       "    </tr>\n",
       "    <tr>\n",
       "      <th>2</th>\n",
       "      <td>2014</td>\n",
       "      <td>520.448123</td>\n",
       "      <td>534.720881</td>\n",
       "      <td>502.673027</td>\n",
       "      <td>518.500077</td>\n",
       "    </tr>\n",
       "    <tr>\n",
       "      <th>3</th>\n",
       "      <td>2015</td>\n",
       "      <td>268.885862</td>\n",
       "      <td>275.916628</td>\n",
       "      <td>263.178314</td>\n",
       "      <td>269.679579</td>\n",
       "    </tr>\n",
       "    <tr>\n",
       "      <th>4</th>\n",
       "      <td>2016</td>\n",
       "      <td>560.208467</td>\n",
       "      <td>568.469004</td>\n",
       "      <td>552.945556</td>\n",
       "      <td>561.547548</td>\n",
       "    </tr>\n",
       "    <tr>\n",
       "      <th>5</th>\n",
       "      <td>2017</td>\n",
       "      <td>4030.433980</td>\n",
       "      <td>4208.879728</td>\n",
       "      <td>3878.672007</td>\n",
       "      <td>4072.584116</td>\n",
       "    </tr>\n",
       "    <tr>\n",
       "      <th>6</th>\n",
       "      <td>2018</td>\n",
       "      <td>7784.464930</td>\n",
       "      <td>8041.540000</td>\n",
       "      <td>7478.756503</td>\n",
       "      <td>7755.060839</td>\n",
       "    </tr>\n",
       "    <tr>\n",
       "      <th>7</th>\n",
       "      <td>2019</td>\n",
       "      <td>7328.262819</td>\n",
       "      <td>7556.984942</td>\n",
       "      <td>7115.426564</td>\n",
       "      <td>7352.219653</td>\n",
       "    </tr>\n",
       "    <tr>\n",
       "      <th>8</th>\n",
       "      <td>2020</td>\n",
       "      <td>11020.477846</td>\n",
       "      <td>11335.288615</td>\n",
       "      <td>10744.427808</td>\n",
       "      <td>11104.194962</td>\n",
       "    </tr>\n",
       "  </tbody>\n",
       "</table>\n",
       "</div>"
      ],
      "text/plain": [
       "   year          open          high           low         close\n",
       "0  2012      8.249119      8.482605      8.034674      8.303602\n",
       "1  2013    182.396475    195.594023    170.112989    185.867663\n",
       "2  2014    520.448123    534.720881    502.673027    518.500077\n",
       "3  2015    268.885862    275.916628    263.178314    269.679579\n",
       "4  2016    560.208467    568.469004    552.945556    561.547548\n",
       "5  2017   4030.433980   4208.879728   3878.672007   4072.584116\n",
       "6  2018   7784.464930   8041.540000   7478.756503   7755.060839\n",
       "7  2019   7328.262819   7556.984942   7115.426564   7352.219653\n",
       "8  2020  11020.477846  11335.288615  10744.427808  11104.194962"
      ]
     },
     "execution_count": 13,
     "metadata": {},
     "output_type": "execute_result"
    }
   ],
   "source": [
    "df_yearly_mean"
   ]
  },
  {
   "cell_type": "markdown",
   "id": "1e68a18c",
   "metadata": {},
   "source": [
    "### Q2. Visualize mean value of <code>open</code> yearly."
   ]
  },
  {
   "cell_type": "code",
   "execution_count": 14,
   "id": "936e06d3",
   "metadata": {},
   "outputs": [
    {
     "data": {
      "text/plain": [
       "<Axes: xlabel='year', ylabel='open'>"
      ]
     },
     "execution_count": 14,
     "metadata": {},
     "output_type": "execute_result"
    },
    {
     "data": {
      "image/png": "[encoded data removed]",
      "text/plain": [
       "<Figure size 640x480 with 1 Axes>"
      ]
     },
     "metadata": {},
     "output_type": "display_data"
    }
   ],
   "source": [
    "# Hint: sns.barplot(x='year',y='open',data=df_mean)\n",
    "\n",
    "sns.barplot(x='year',\n",
    "            y='open',\n",
    "            data=df_yearly_mean)\n",
    "\n",
    "# the hint is availble so we use it."
   ]
  },
  {
   "cell_type": "markdown",
   "id": "0afa5ae5",
   "metadata": {},
   "source": [
    "### Q3. Visualize mean value of <code>close</code> yearly."
   ]
  },
  {
   "cell_type": "code",
   "execution_count": 15,
   "id": "34d8d9d7",
   "metadata": {},
   "outputs": [
    {
     "data": {
      "text/plain": [
       "<Axes: xlabel='year', ylabel='close'>"
      ]
     },
     "execution_count": 15,
     "metadata": {},
     "output_type": "execute_result"
    },
    {
     "data": {
      "image/png": "[encoded data removed]",
      "text/plain": [
       "<Figure size 640x480 with 1 Axes>"
      ]
     },
     "metadata": {},
     "output_type": "display_data"
    }
   ],
   "source": [
    "# Write your code here\n",
    "\n",
    "sns.barplot(x='year',\n",
    "            y='close',\n",
    "            data=df_yearly_mean)"
   ]
  },
  {
   "cell_type": "markdown",
   "id": "9affdeee",
   "metadata": {},
   "source": [
    "### Q4. groupby dataframe on <code>year</code> and find the median value."
   ]
  },
  {
   "cell_type": "code",
   "execution_count": 16,
   "id": "af6ad13d",
   "metadata": {},
   "outputs": [],
   "source": [
    "# Write your code here\n",
    "\n",
    "# to groupby we use groupby() on 'year'\n",
    "# for finding median we use median()\n",
    "# additionally we use reset_index for properly naming our dataframe so that it won't throw an error"
   ]
  },
  {
   "cell_type": "code",
   "execution_count": 17,
   "id": "d219ee2b",
   "metadata": {},
   "outputs": [],
   "source": [
    "\n",
    "df_yearly_median = df.groupby('year')[['open','close']].median().reset_index()\n"
   ]
  },
  {
   "cell_type": "markdown",
   "id": "ff9ec090",
   "metadata": {},
   "source": [
    "### Q5. Visualize median value of <code>open</code> yearly."
   ]
  },
  {
   "cell_type": "code",
   "execution_count": 18,
   "id": "c6e736d2",
   "metadata": {},
   "outputs": [
    {
     "data": {
      "text/plain": [
       "<Axes: xlabel='year', ylabel='open'>"
      ]
     },
     "execution_count": 18,
     "metadata": {},
     "output_type": "execute_result"
    },
    {
     "data": {
      "image/png": "[encoded data removed]",
      "text/plain": [
       "<Figure size 640x480 with 1 Axes>"
      ]
     },
     "metadata": {},
     "output_type": "display_data"
    }
   ],
   "source": [
    "# Write your code here\n",
    "\n",
    "sns.barplot(x='year',\n",
    "            y='open',\n",
    "            data = df_yearly_median )"
   ]
  },
  {
   "cell_type": "markdown",
   "id": "8de5eb50",
   "metadata": {},
   "source": [
    "### Q6. Visualize median value of <code>close</code> yearly."
   ]
  },
  {
   "cell_type": "code",
   "execution_count": 19,
   "id": "dc7b6328",
   "metadata": {},
   "outputs": [
    {
     "data": {
      "text/plain": [
       "<Axes: xlabel='year', ylabel='close'>"
      ]
     },
     "execution_count": 19,
     "metadata": {},
     "output_type": "execute_result"
    },
    {
     "data": {
      "image/png": "[encoded data removed]",
      "text/plain": [
       "<Figure size 640x480 with 1 Axes>"
      ]
     },
     "metadata": {},
     "output_type": "display_data"
    }
   ],
   "source": [
    "# Write your code here\n",
    "\n",
    "sns.barplot(x='year',\n",
    "            y='close',\n",
    "            data = df_yearly_median )"
   ]
  },
  {
   "cell_type": "code",
   "execution_count": null,
   "id": "e0944c3a",
   "metadata": {},
   "outputs": [],
   "source": []
  }
 ],
 "metadata": {
  "kernelspec": {
   "display_name": "Python 3 (ipykernel)",
   "language": "python",
   "name": "python3"
  },
  "language_info": {
   "codemirror_mode": {
    "name": "ipython",
    "version": 3
   },
   "file_extension": ".py",
   "mimetype": "text/x-python",
   "name": "python",
   "nbconvert_exporter": "python",
   "pygments_lexer": "ipython3",
   "version": "3.11.7"
  }
 },
 "nbformat": 4,
 "nbformat_minor": 5
}
